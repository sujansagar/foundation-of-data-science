{
  "nbformat": 4,
  "nbformat_minor": 0,
  "metadata": {
    "colab": {
      "provenance": []
    },
    "kernelspec": {
      "name": "python3",
      "display_name": "Python 3"
    },
    "language_info": {
      "name": "python"
    }
  },
  "cells": [
    {
      "cell_type": "code",
      "execution_count": null,
      "metadata": {
        "id": "Y384O0g_i2H8"
      },
      "outputs": [],
      "source": [
        "import pandas as pd\n",
        "import numpy as np\n",
        "import matplotlib.pyplot as plt\n",
        "from scipy.stats import chi2_contingency"
      ]
    },
    {
      "cell_type": "code",
      "source": [
        "df = pd.read_csv('/content/DATASET.csv')\n",
        "df"
      ],
      "metadata": {
        "colab": {
          "base_uri": "https://localhost:8080/",
          "height": 424
        },
        "id": "hnp4TA6itHhQ",
        "outputId": "d0476bb7-bee0-44b1-efcf-ef09522b2f7a"
      },
      "execution_count": null,
      "outputs": [
        {
          "output_type": "execute_result",
          "data": {
            "text/plain": [
              "       ProductID                                        ProductName  \\\n",
              "0       10017413  DKNY Unisex Black & Grey Printed Medium Trolle...   \n",
              "1       10016283  EthnoVogue Women Beige & Grey Made to Measure ...   \n",
              "2       10009781  SPYKAR Women Pink Alexa Super Skinny Fit High-...   \n",
              "3       10015921  Raymond Men Blue Self-Design Single-Breasted B...   \n",
              "4       10017833  Parx Men Brown & Off-White Slim Fit Printed Ca...   \n",
              "...          ...                                                ...   \n",
              "12486   10262843  Pepe Jeans Men Black Hammock Slim Fit Low-Rise...   \n",
              "12487   10261721                 Mochi Women Gold-Toned Solid Heels   \n",
              "12488   10261607  612 league Girls Navy Blue & White Printed Reg...   \n",
              "12489   10266621  Bvlgari Men Aqva Pour Homme Marine Eau de Toil...   \n",
              "12490   10265199  Pepe Jeans Men Black & Grey Striped Polo Colla...   \n",
              "\n",
              "      ProductBrand  Gender  Price (INR)  NumImages  \\\n",
              "0             DKNY  Unisex        11745          7   \n",
              "1       EthnoVogue   Women         5810          7   \n",
              "2           SPYKAR   Women          899          7   \n",
              "3          Raymond     Men         5599          5   \n",
              "4             Parx     Men          759          5   \n",
              "...            ...     ...          ...        ...   \n",
              "12486   Pepe Jeans     Men         1299          7   \n",
              "12487        Mochi   Women         1990          5   \n",
              "12488   612 league   Girls          602          4   \n",
              "12489      Bvlgari     Men         8950          2   \n",
              "12490   Pepe Jeans     Men          799          5   \n",
              "\n",
              "                                             Description PrimaryColor  \n",
              "0      Black and grey printed medium trolley bag, sec...        Black  \n",
              "1      Beige & Grey made to measure kurta with churid...        Beige  \n",
              "2      Pink coloured wash 5-pocket high-rise cropped ...         Pink  \n",
              "3      Blue self-design bandhgala suitBlue self-desig...         Blue  \n",
              "4      Brown and off-white printed casual shirt, has ...        White  \n",
              "...                                                  ...          ...  \n",
              "12486  Black dark wash 5-pocket low-rise jeans, clean...        Black  \n",
              "12487  A pair of gold-toned open toe heels, has regul...         Gold  \n",
              "12488  Navy Blue and White printed mid-rise denim sho...         Blue  \n",
              "12489  Bvlgari Men Aqva Pour Homme Marine Eau de Toil...          NaN  \n",
              "12490  Black and grey striped T-shirt, has a polo col...        Black  \n",
              "\n",
              "[12491 rows x 8 columns]"
            ],
            "text/html": [
              "\n",
              "  <div id=\"df-61457e77-b537-40ed-94d7-89afdfda4160\">\n",
              "    <div class=\"colab-df-container\">\n",
              "      <div>\n",
              "<style scoped>\n",
              "    .dataframe tbody tr th:only-of-type {\n",
              "        vertical-align: middle;\n",
              "    }\n",
              "\n",
              "    .dataframe tbody tr th {\n",
              "        vertical-align: top;\n",
              "    }\n",
              "\n",
              "    .dataframe thead th {\n",
              "        text-align: right;\n",
              "    }\n",
              "</style>\n",
              "<table border=\"1\" class=\"dataframe\">\n",
              "  <thead>\n",
              "    <tr style=\"text-align: right;\">\n",
              "      <th></th>\n",
              "      <th>ProductID</th>\n",
              "      <th>ProductName</th>\n",
              "      <th>ProductBrand</th>\n",
              "      <th>Gender</th>\n",
              "      <th>Price (INR)</th>\n",
              "      <th>NumImages</th>\n",
              "      <th>Description</th>\n",
              "      <th>PrimaryColor</th>\n",
              "    </tr>\n",
              "  </thead>\n",
              "  <tbody>\n",
              "    <tr>\n",
              "      <th>0</th>\n",
              "      <td>10017413</td>\n",
              "      <td>DKNY Unisex Black &amp; Grey Printed Medium Trolle...</td>\n",
              "      <td>DKNY</td>\n",
              "      <td>Unisex</td>\n",
              "      <td>11745</td>\n",
              "      <td>7</td>\n",
              "      <td>Black and grey printed medium trolley bag, sec...</td>\n",
              "      <td>Black</td>\n",
              "    </tr>\n",
              "    <tr>\n",
              "      <th>1</th>\n",
              "      <td>10016283</td>\n",
              "      <td>EthnoVogue Women Beige &amp; Grey Made to Measure ...</td>\n",
              "      <td>EthnoVogue</td>\n",
              "      <td>Women</td>\n",
              "      <td>5810</td>\n",
              "      <td>7</td>\n",
              "      <td>Beige &amp; Grey made to measure kurta with churid...</td>\n",
              "      <td>Beige</td>\n",
              "    </tr>\n",
              "    <tr>\n",
              "      <th>2</th>\n",
              "      <td>10009781</td>\n",
              "      <td>SPYKAR Women Pink Alexa Super Skinny Fit High-...</td>\n",
              "      <td>SPYKAR</td>\n",
              "      <td>Women</td>\n",
              "      <td>899</td>\n",
              "      <td>7</td>\n",
              "      <td>Pink coloured wash 5-pocket high-rise cropped ...</td>\n",
              "      <td>Pink</td>\n",
              "    </tr>\n",
              "    <tr>\n",
              "      <th>3</th>\n",
              "      <td>10015921</td>\n",
              "      <td>Raymond Men Blue Self-Design Single-Breasted B...</td>\n",
              "      <td>Raymond</td>\n",
              "      <td>Men</td>\n",
              "      <td>5599</td>\n",
              "      <td>5</td>\n",
              "      <td>Blue self-design bandhgala suitBlue self-desig...</td>\n",
              "      <td>Blue</td>\n",
              "    </tr>\n",
              "    <tr>\n",
              "      <th>4</th>\n",
              "      <td>10017833</td>\n",
              "      <td>Parx Men Brown &amp; Off-White Slim Fit Printed Ca...</td>\n",
              "      <td>Parx</td>\n",
              "      <td>Men</td>\n",
              "      <td>759</td>\n",
              "      <td>5</td>\n",
              "      <td>Brown and off-white printed casual shirt, has ...</td>\n",
              "      <td>White</td>\n",
              "    </tr>\n",
              "    <tr>\n",
              "      <th>...</th>\n",
              "      <td>...</td>\n",
              "      <td>...</td>\n",
              "      <td>...</td>\n",
              "      <td>...</td>\n",
              "      <td>...</td>\n",
              "      <td>...</td>\n",
              "      <td>...</td>\n",
              "      <td>...</td>\n",
              "    </tr>\n",
              "    <tr>\n",
              "      <th>12486</th>\n",
              "      <td>10262843</td>\n",
              "      <td>Pepe Jeans Men Black Hammock Slim Fit Low-Rise...</td>\n",
              "      <td>Pepe Jeans</td>\n",
              "      <td>Men</td>\n",
              "      <td>1299</td>\n",
              "      <td>7</td>\n",
              "      <td>Black dark wash 5-pocket low-rise jeans, clean...</td>\n",
              "      <td>Black</td>\n",
              "    </tr>\n",
              "    <tr>\n",
              "      <th>12487</th>\n",
              "      <td>10261721</td>\n",
              "      <td>Mochi Women Gold-Toned Solid Heels</td>\n",
              "      <td>Mochi</td>\n",
              "      <td>Women</td>\n",
              "      <td>1990</td>\n",
              "      <td>5</td>\n",
              "      <td>A pair of gold-toned open toe heels, has regul...</td>\n",
              "      <td>Gold</td>\n",
              "    </tr>\n",
              "    <tr>\n",
              "      <th>12488</th>\n",
              "      <td>10261607</td>\n",
              "      <td>612 league Girls Navy Blue &amp; White Printed Reg...</td>\n",
              "      <td>612 league</td>\n",
              "      <td>Girls</td>\n",
              "      <td>602</td>\n",
              "      <td>4</td>\n",
              "      <td>Navy Blue and White printed mid-rise denim sho...</td>\n",
              "      <td>Blue</td>\n",
              "    </tr>\n",
              "    <tr>\n",
              "      <th>12489</th>\n",
              "      <td>10266621</td>\n",
              "      <td>Bvlgari Men Aqva Pour Homme Marine Eau de Toil...</td>\n",
              "      <td>Bvlgari</td>\n",
              "      <td>Men</td>\n",
              "      <td>8950</td>\n",
              "      <td>2</td>\n",
              "      <td>Bvlgari Men Aqva Pour Homme Marine Eau de Toil...</td>\n",
              "      <td>NaN</td>\n",
              "    </tr>\n",
              "    <tr>\n",
              "      <th>12490</th>\n",
              "      <td>10265199</td>\n",
              "      <td>Pepe Jeans Men Black &amp; Grey Striped Polo Colla...</td>\n",
              "      <td>Pepe Jeans</td>\n",
              "      <td>Men</td>\n",
              "      <td>799</td>\n",
              "      <td>5</td>\n",
              "      <td>Black and grey striped T-shirt, has a polo col...</td>\n",
              "      <td>Black</td>\n",
              "    </tr>\n",
              "  </tbody>\n",
              "</table>\n",
              "<p>12491 rows × 8 columns</p>\n",
              "</div>\n",
              "      <button class=\"colab-df-convert\" onclick=\"convertToInteractive('df-61457e77-b537-40ed-94d7-89afdfda4160')\"\n",
              "              title=\"Convert this dataframe to an interactive table.\"\n",
              "              style=\"display:none;\">\n",
              "        \n",
              "  <svg xmlns=\"http://www.w3.org/2000/svg\" height=\"24px\"viewBox=\"0 0 24 24\"\n",
              "       width=\"24px\">\n",
              "    <path d=\"M0 0h24v24H0V0z\" fill=\"none\"/>\n",
              "    <path d=\"M18.56 5.44l.94 2.06.94-2.06 2.06-.94-2.06-.94-.94-2.06-.94 2.06-2.06.94zm-11 1L8.5 8.5l.94-2.06 2.06-.94-2.06-.94L8.5 2.5l-.94 2.06-2.06.94zm10 10l.94 2.06.94-2.06 2.06-.94-2.06-.94-.94-2.06-.94 2.06-2.06.94z\"/><path d=\"M17.41 7.96l-1.37-1.37c-.4-.4-.92-.59-1.43-.59-.52 0-1.04.2-1.43.59L10.3 9.45l-7.72 7.72c-.78.78-.78 2.05 0 2.83L4 21.41c.39.39.9.59 1.41.59.51 0 1.02-.2 1.41-.59l7.78-7.78 2.81-2.81c.8-.78.8-2.07 0-2.86zM5.41 20L4 18.59l7.72-7.72 1.47 1.35L5.41 20z\"/>\n",
              "  </svg>\n",
              "      </button>\n",
              "      \n",
              "  <style>\n",
              "    .colab-df-container {\n",
              "      display:flex;\n",
              "      flex-wrap:wrap;\n",
              "      gap: 12px;\n",
              "    }\n",
              "\n",
              "    .colab-df-convert {\n",
              "      background-color: #E8F0FE;\n",
              "      border: none;\n",
              "      border-radius: 50%;\n",
              "      cursor: pointer;\n",
              "      display: none;\n",
              "      fill: #1967D2;\n",
              "      height: 32px;\n",
              "      padding: 0 0 0 0;\n",
              "      width: 32px;\n",
              "    }\n",
              "\n",
              "    .colab-df-convert:hover {\n",
              "      background-color: #E2EBFA;\n",
              "      box-shadow: 0px 1px 2px rgba(60, 64, 67, 0.3), 0px 1px 3px 1px rgba(60, 64, 67, 0.15);\n",
              "      fill: #174EA6;\n",
              "    }\n",
              "\n",
              "    [theme=dark] .colab-df-convert {\n",
              "      background-color: #3B4455;\n",
              "      fill: #D2E3FC;\n",
              "    }\n",
              "\n",
              "    [theme=dark] .colab-df-convert:hover {\n",
              "      background-color: #434B5C;\n",
              "      box-shadow: 0px 1px 3px 1px rgba(0, 0, 0, 0.15);\n",
              "      filter: drop-shadow(0px 1px 2px rgba(0, 0, 0, 0.3));\n",
              "      fill: #FFFFFF;\n",
              "    }\n",
              "  </style>\n",
              "\n",
              "      <script>\n",
              "        const buttonEl =\n",
              "          document.querySelector('#df-61457e77-b537-40ed-94d7-89afdfda4160 button.colab-df-convert');\n",
              "        buttonEl.style.display =\n",
              "          google.colab.kernel.accessAllowed ? 'block' : 'none';\n",
              "\n",
              "        async function convertToInteractive(key) {\n",
              "          const element = document.querySelector('#df-61457e77-b537-40ed-94d7-89afdfda4160');\n",
              "          const dataTable =\n",
              "            await google.colab.kernel.invokeFunction('convertToInteractive',\n",
              "                                                     [key], {});\n",
              "          if (!dataTable) return;\n",
              "\n",
              "          const docLinkHtml = 'Like what you see? Visit the ' +\n",
              "            '<a target=\"_blank\" href=https://colab.research.google.com/notebooks/data_table.ipynb>data table notebook</a>'\n",
              "            + ' to learn more about interactive tables.';\n",
              "          element.innerHTML = '';\n",
              "          dataTable['output_type'] = 'display_data';\n",
              "          await google.colab.output.renderOutput(dataTable, element);\n",
              "          const docLink = document.createElement('div');\n",
              "          docLink.innerHTML = docLinkHtml;\n",
              "          element.appendChild(docLink);\n",
              "        }\n",
              "      </script>\n",
              "    </div>\n",
              "  </div>\n",
              "  "
            ]
          },
          "metadata": {},
          "execution_count": 18
        }
      ]
    },
    {
      "cell_type": "code",
      "source": [
        "df=pd.DataFrame({'PRODUCT_ID':df['ProductID'],'PRODUCT_NAME':df['ProductName'],'NUMIMAGES':df['NUMIMAGES'],'GENDER':df['Gender'],'PRICE':df['Price (INR)'],'DESCRIPTION':df['Description'],'NUMIMAGES':df['NUMIMAGES'], 'NUMIMAGES':df['NumImages'],  })\n",
        "df"
      ],
      "metadata": {
        "colab": {
          "base_uri": "https://localhost:8080/",
          "height": 424
        },
        "id": "crxvEutLE_MR",
        "outputId": "1d71af01-72f2-4a04-b505-25c82267e107"
      },
      "execution_count": null,
      "outputs": [
        {
          "output_type": "execute_result",
          "data": {
            "text/plain": [
              "       PRODUCT_ID                                       PRODUCT_NAME  \\\n",
              "0        10017413  DKNY Unisex Black & Grey Printed Medium Trolle...   \n",
              "1        10016283  EthnoVogue Women Beige & Grey Made to Measure ...   \n",
              "2        10009781  SPYKAR Women Pink Alexa Super Skinny Fit High-...   \n",
              "3        10015921  Raymond Men Blue Self-Design Single-Breasted B...   \n",
              "4        10017833  Parx Men Brown & Off-White Slim Fit Printed Ca...   \n",
              "...           ...                                                ...   \n",
              "12486    10262843  Pepe Jeans Men Black Hammock Slim Fit Low-Rise...   \n",
              "12487    10261721                 Mochi Women Gold-Toned Solid Heels   \n",
              "12488    10261607  612 league Girls Navy Blue & White Printed Reg...   \n",
              "12489    10266621  Bvlgari Men Aqva Pour Homme Marine Eau de Toil...   \n",
              "12490    10265199  Pepe Jeans Men Black & Grey Striped Polo Colla...   \n",
              "\n",
              "      PRODUCTBRAND  GENDER  PRICE  \\\n",
              "0             DKNY  Unisex  11745   \n",
              "1       EthnoVogue   Women   5810   \n",
              "2           SPYKAR   Women    899   \n",
              "3          Raymond     Men   5599   \n",
              "4             Parx     Men    759   \n",
              "...            ...     ...    ...   \n",
              "12486   Pepe Jeans     Men   1299   \n",
              "12487        Mochi   Women   1990   \n",
              "12488   612 league   Girls    602   \n",
              "12489      Bvlgari     Men   8950   \n",
              "12490   Pepe Jeans     Men    799   \n",
              "\n",
              "                                             DESCRIPTION PRIMARYCOLOR  \\\n",
              "0      Black and grey printed medium trolley bag, sec...        Black   \n",
              "1      Beige & Grey made to measure kurta with churid...        Beige   \n",
              "2      Pink coloured wash 5-pocket high-rise cropped ...         Pink   \n",
              "3      Blue self-design bandhgala suitBlue self-desig...         Blue   \n",
              "4      Brown and off-white printed casual shirt, has ...        White   \n",
              "...                                                  ...          ...   \n",
              "12486  Black dark wash 5-pocket low-rise jeans, clean...        Black   \n",
              "12487  A pair of gold-toned open toe heels, has regul...         Gold   \n",
              "12488  Navy Blue and White printed mid-rise denim sho...         Blue   \n",
              "12489  Bvlgari Men Aqva Pour Homme Marine Eau de Toil...          NaN   \n",
              "12490  Black and grey striped T-shirt, has a polo col...        Black   \n",
              "\n",
              "       NUMIMAGES  \n",
              "0              7  \n",
              "1              7  \n",
              "2              7  \n",
              "3              5  \n",
              "4              5  \n",
              "...          ...  \n",
              "12486          7  \n",
              "12487          5  \n",
              "12488          4  \n",
              "12489          2  \n",
              "12490          5  \n",
              "\n",
              "[12491 rows x 8 columns]"
            ],
            "text/html": [
              "\n",
              "  <div id=\"df-f70242d2-7cb2-4521-8d7e-ba1a0223b5f3\">\n",
              "    <div class=\"colab-df-container\">\n",
              "      <div>\n",
              "<style scoped>\n",
              "    .dataframe tbody tr th:only-of-type {\n",
              "        vertical-align: middle;\n",
              "    }\n",
              "\n",
              "    .dataframe tbody tr th {\n",
              "        vertical-align: top;\n",
              "    }\n",
              "\n",
              "    .dataframe thead th {\n",
              "        text-align: right;\n",
              "    }\n",
              "</style>\n",
              "<table border=\"1\" class=\"dataframe\">\n",
              "  <thead>\n",
              "    <tr style=\"text-align: right;\">\n",
              "      <th></th>\n",
              "      <th>PRODUCT_ID</th>\n",
              "      <th>PRODUCT_NAME</th>\n",
              "      <th>PRODUCTBRAND</th>\n",
              "      <th>GENDER</th>\n",
              "      <th>PRICE</th>\n",
              "      <th>DESCRIPTION</th>\n",
              "      <th>PRIMARYCOLOR</th>\n",
              "      <th>NUMIMAGES</th>\n",
              "    </tr>\n",
              "  </thead>\n",
              "  <tbody>\n",
              "    <tr>\n",
              "      <th>0</th>\n",
              "      <td>10017413</td>\n",
              "      <td>DKNY Unisex Black &amp; Grey Printed Medium Trolle...</td>\n",
              "      <td>DKNY</td>\n",
              "      <td>Unisex</td>\n",
              "      <td>11745</td>\n",
              "      <td>Black and grey printed medium trolley bag, sec...</td>\n",
              "      <td>Black</td>\n",
              "      <td>7</td>\n",
              "    </tr>\n",
              "    <tr>\n",
              "      <th>1</th>\n",
              "      <td>10016283</td>\n",
              "      <td>EthnoVogue Women Beige &amp; Grey Made to Measure ...</td>\n",
              "      <td>EthnoVogue</td>\n",
              "      <td>Women</td>\n",
              "      <td>5810</td>\n",
              "      <td>Beige &amp; Grey made to measure kurta with churid...</td>\n",
              "      <td>Beige</td>\n",
              "      <td>7</td>\n",
              "    </tr>\n",
              "    <tr>\n",
              "      <th>2</th>\n",
              "      <td>10009781</td>\n",
              "      <td>SPYKAR Women Pink Alexa Super Skinny Fit High-...</td>\n",
              "      <td>SPYKAR</td>\n",
              "      <td>Women</td>\n",
              "      <td>899</td>\n",
              "      <td>Pink coloured wash 5-pocket high-rise cropped ...</td>\n",
              "      <td>Pink</td>\n",
              "      <td>7</td>\n",
              "    </tr>\n",
              "    <tr>\n",
              "      <th>3</th>\n",
              "      <td>10015921</td>\n",
              "      <td>Raymond Men Blue Self-Design Single-Breasted B...</td>\n",
              "      <td>Raymond</td>\n",
              "      <td>Men</td>\n",
              "      <td>5599</td>\n",
              "      <td>Blue self-design bandhgala suitBlue self-desig...</td>\n",
              "      <td>Blue</td>\n",
              "      <td>5</td>\n",
              "    </tr>\n",
              "    <tr>\n",
              "      <th>4</th>\n",
              "      <td>10017833</td>\n",
              "      <td>Parx Men Brown &amp; Off-White Slim Fit Printed Ca...</td>\n",
              "      <td>Parx</td>\n",
              "      <td>Men</td>\n",
              "      <td>759</td>\n",
              "      <td>Brown and off-white printed casual shirt, has ...</td>\n",
              "      <td>White</td>\n",
              "      <td>5</td>\n",
              "    </tr>\n",
              "    <tr>\n",
              "      <th>...</th>\n",
              "      <td>...</td>\n",
              "      <td>...</td>\n",
              "      <td>...</td>\n",
              "      <td>...</td>\n",
              "      <td>...</td>\n",
              "      <td>...</td>\n",
              "      <td>...</td>\n",
              "      <td>...</td>\n",
              "    </tr>\n",
              "    <tr>\n",
              "      <th>12486</th>\n",
              "      <td>10262843</td>\n",
              "      <td>Pepe Jeans Men Black Hammock Slim Fit Low-Rise...</td>\n",
              "      <td>Pepe Jeans</td>\n",
              "      <td>Men</td>\n",
              "      <td>1299</td>\n",
              "      <td>Black dark wash 5-pocket low-rise jeans, clean...</td>\n",
              "      <td>Black</td>\n",
              "      <td>7</td>\n",
              "    </tr>\n",
              "    <tr>\n",
              "      <th>12487</th>\n",
              "      <td>10261721</td>\n",
              "      <td>Mochi Women Gold-Toned Solid Heels</td>\n",
              "      <td>Mochi</td>\n",
              "      <td>Women</td>\n",
              "      <td>1990</td>\n",
              "      <td>A pair of gold-toned open toe heels, has regul...</td>\n",
              "      <td>Gold</td>\n",
              "      <td>5</td>\n",
              "    </tr>\n",
              "    <tr>\n",
              "      <th>12488</th>\n",
              "      <td>10261607</td>\n",
              "      <td>612 league Girls Navy Blue &amp; White Printed Reg...</td>\n",
              "      <td>612 league</td>\n",
              "      <td>Girls</td>\n",
              "      <td>602</td>\n",
              "      <td>Navy Blue and White printed mid-rise denim sho...</td>\n",
              "      <td>Blue</td>\n",
              "      <td>4</td>\n",
              "    </tr>\n",
              "    <tr>\n",
              "      <th>12489</th>\n",
              "      <td>10266621</td>\n",
              "      <td>Bvlgari Men Aqva Pour Homme Marine Eau de Toil...</td>\n",
              "      <td>Bvlgari</td>\n",
              "      <td>Men</td>\n",
              "      <td>8950</td>\n",
              "      <td>Bvlgari Men Aqva Pour Homme Marine Eau de Toil...</td>\n",
              "      <td>NaN</td>\n",
              "      <td>2</td>\n",
              "    </tr>\n",
              "    <tr>\n",
              "      <th>12490</th>\n",
              "      <td>10265199</td>\n",
              "      <td>Pepe Jeans Men Black &amp; Grey Striped Polo Colla...</td>\n",
              "      <td>Pepe Jeans</td>\n",
              "      <td>Men</td>\n",
              "      <td>799</td>\n",
              "      <td>Black and grey striped T-shirt, has a polo col...</td>\n",
              "      <td>Black</td>\n",
              "      <td>5</td>\n",
              "    </tr>\n",
              "  </tbody>\n",
              "</table>\n",
              "<p>12491 rows × 8 columns</p>\n",
              "</div>\n",
              "      <button class=\"colab-df-convert\" onclick=\"convertToInteractive('df-f70242d2-7cb2-4521-8d7e-ba1a0223b5f3')\"\n",
              "              title=\"Convert this dataframe to an interactive table.\"\n",
              "              style=\"display:none;\">\n",
              "        \n",
              "  <svg xmlns=\"http://www.w3.org/2000/svg\" height=\"24px\"viewBox=\"0 0 24 24\"\n",
              "       width=\"24px\">\n",
              "    <path d=\"M0 0h24v24H0V0z\" fill=\"none\"/>\n",
              "    <path d=\"M18.56 5.44l.94 2.06.94-2.06 2.06-.94-2.06-.94-.94-2.06-.94 2.06-2.06.94zm-11 1L8.5 8.5l.94-2.06 2.06-.94-2.06-.94L8.5 2.5l-.94 2.06-2.06.94zm10 10l.94 2.06.94-2.06 2.06-.94-2.06-.94-.94-2.06-.94 2.06-2.06.94z\"/><path d=\"M17.41 7.96l-1.37-1.37c-.4-.4-.92-.59-1.43-.59-.52 0-1.04.2-1.43.59L10.3 9.45l-7.72 7.72c-.78.78-.78 2.05 0 2.83L4 21.41c.39.39.9.59 1.41.59.51 0 1.02-.2 1.41-.59l7.78-7.78 2.81-2.81c.8-.78.8-2.07 0-2.86zM5.41 20L4 18.59l7.72-7.72 1.47 1.35L5.41 20z\"/>\n",
              "  </svg>\n",
              "      </button>\n",
              "      \n",
              "  <style>\n",
              "    .colab-df-container {\n",
              "      display:flex;\n",
              "      flex-wrap:wrap;\n",
              "      gap: 12px;\n",
              "    }\n",
              "\n",
              "    .colab-df-convert {\n",
              "      background-color: #E8F0FE;\n",
              "      border: none;\n",
              "      border-radius: 50%;\n",
              "      cursor: pointer;\n",
              "      display: none;\n",
              "      fill: #1967D2;\n",
              "      height: 32px;\n",
              "      padding: 0 0 0 0;\n",
              "      width: 32px;\n",
              "    }\n",
              "\n",
              "    .colab-df-convert:hover {\n",
              "      background-color: #E2EBFA;\n",
              "      box-shadow: 0px 1px 2px rgba(60, 64, 67, 0.3), 0px 1px 3px 1px rgba(60, 64, 67, 0.15);\n",
              "      fill: #174EA6;\n",
              "    }\n",
              "\n",
              "    [theme=dark] .colab-df-convert {\n",
              "      background-color: #3B4455;\n",
              "      fill: #D2E3FC;\n",
              "    }\n",
              "\n",
              "    [theme=dark] .colab-df-convert:hover {\n",
              "      background-color: #434B5C;\n",
              "      box-shadow: 0px 1px 3px 1px rgba(0, 0, 0, 0.15);\n",
              "      filter: drop-shadow(0px 1px 2px rgba(0, 0, 0, 0.3));\n",
              "      fill: #FFFFFF;\n",
              "    }\n",
              "  </style>\n",
              "\n",
              "      <script>\n",
              "        const buttonEl =\n",
              "          document.querySelector('#df-f70242d2-7cb2-4521-8d7e-ba1a0223b5f3 button.colab-df-convert');\n",
              "        buttonEl.style.display =\n",
              "          google.colab.kernel.accessAllowed ? 'block' : 'none';\n",
              "\n",
              "        async function convertToInteractive(key) {\n",
              "          const element = document.querySelector('#df-f70242d2-7cb2-4521-8d7e-ba1a0223b5f3');\n",
              "          const dataTable =\n",
              "            await google.colab.kernel.invokeFunction('convertToInteractive',\n",
              "                                                     [key], {});\n",
              "          if (!dataTable) return;\n",
              "\n",
              "          const docLinkHtml = 'Like what you see? Visit the ' +\n",
              "            '<a target=\"_blank\" href=https://colab.research.google.com/notebooks/data_table.ipynb>data table notebook</a>'\n",
              "            + ' to learn more about interactive tables.';\n",
              "          element.innerHTML = '';\n",
              "          dataTable['output_type'] = 'display_data';\n",
              "          await google.colab.output.renderOutput(dataTable, element);\n",
              "          const docLink = document.createElement('div');\n",
              "          docLink.innerHTML = docLinkHtml;\n",
              "          element.appendChild(docLink);\n",
              "        }\n",
              "      </script>\n",
              "    </div>\n",
              "  </div>\n",
              "  "
            ]
          },
          "metadata": {},
          "execution_count": 19
        }
      ]
    },
    {
      "cell_type": "code",
      "source": [
        "df['NUMIMAGES'].unique()"
      ],
      "metadata": {
        "colab": {
          "base_uri": "https://localhost:8080/"
        },
        "id": "ODb4ZSqrtZFx",
        "outputId": "8b5e7c62-e64d-420c-e372-4b9eb5659029"
      },
      "execution_count": null,
      "outputs": [
        {
          "output_type": "execute_result",
          "data": {
            "text/plain": [
              "array([ 7,  5,  4,  6,  3,  2,  1,  8,  9, 10])"
            ]
          },
          "metadata": {},
          "execution_count": 35
        }
      ]
    },
    {
      "cell_type": "code",
      "source": [
        "df1 = df.groupby(['NUMIMAGES'])\n",
        "df1"
      ],
      "metadata": {
        "id": "UW48yB6Vtdgx",
        "colab": {
          "base_uri": "https://localhost:8080/"
        },
        "outputId": "ffcb0883-e6f2-4432-9f09-d9daa05e1d38"
      },
      "execution_count": null,
      "outputs": [
        {
          "output_type": "execute_result",
          "data": {
            "text/plain": [
              "<pandas.core.groupby.generic.DataFrameGroupBy object at 0x7f2bca2767f0>"
            ]
          },
          "metadata": {},
          "execution_count": 36
        }
      ]
    },
    {
      "cell_type": "code",
      "source": [
        "df1['PRODUCTBRAND'].value_counts().loc[7]"
      ],
      "metadata": {
        "colab": {
          "base_uri": "https://localhost:8080/"
        },
        "id": "h3FUIwE7tgaP",
        "outputId": "4707bed0-89fc-464d-a6c4-af4e55338458"
      },
      "execution_count": null,
      "outputs": [
        {
          "output_type": "execute_result",
          "data": {
            "text/plain": [
              "PRODUCTBRAND\n",
              "Puma                         136\n",
              "Roadster                     133\n",
              "Flying Machine                77\n",
              "HERE&NOW                      75\n",
              "WROGN                         70\n",
              "                            ... \n",
              "UCLA                           1\n",
              "United Colors of Benetton      1\n",
              "V Dot                          1\n",
              "Woodland                       1\n",
              "boAt                           1\n",
              "Name: PRODUCTBRAND, Length: 93, dtype: int64"
            ]
          },
          "metadata": {},
          "execution_count": 37
        }
      ]
    },
    {
      "cell_type": "code",
      "source": [
        "df1['PRODUCTBRAND'].value_counts().loc[5]"
      ],
      "metadata": {
        "colab": {
          "base_uri": "https://localhost:8080/"
        },
        "id": "0o4eh9BntnTK",
        "outputId": "513d6a1e-8d83-4834-ed51-e5fc74859847"
      },
      "execution_count": null,
      "outputs": [
        {
          "output_type": "execute_result",
          "data": {
            "text/plain": [
              "PRODUCTBRAND\n",
              "Indian Terrain    515\n",
              "AURELIA           217\n",
              "W                 172\n",
              "Park Avenue       165\n",
              "Puma              155\n",
              "                 ... \n",
              "breya               1\n",
              "even                1\n",
              "mf                  1\n",
              "pinwheel            1\n",
              "shiloh              1\n",
              "Name: PRODUCTBRAND, Length: 517, dtype: int64"
            ]
          },
          "metadata": {},
          "execution_count": 38
        }
      ]
    },
    {
      "cell_type": "code",
      "source": [
        "df1['PRODUCTBRAND'].value_counts().loc[4]"
      ],
      "metadata": {
        "colab": {
          "base_uri": "https://localhost:8080/"
        },
        "id": "C14Ng3PZttdq",
        "outputId": "61387a25-6889-4fe0-b2f1-efd57e3121e2"
      },
      "execution_count": null,
      "outputs": [
        {
          "output_type": "execute_result",
          "data": {
            "text/plain": [
              "PRODUCTBRAND\n",
              "Pepe Jeans                   174\n",
              "Indian Terrain               165\n",
              "Cortina                      130\n",
              "Soumya                        66\n",
              "Sonari                        53\n",
              "                            ... \n",
              "United Colors of Benetton      1\n",
              "Vero Moda                      1\n",
              "hummel                         1\n",
              "shaze                          1\n",
              "yelloe                         1\n",
              "Name: PRODUCTBRAND, Length: 206, dtype: int64"
            ]
          },
          "metadata": {},
          "execution_count": 39
        }
      ]
    },
    {
      "cell_type": "code",
      "source": [
        "data = [[345, 145], [326, 214], [8, 5]]"
      ],
      "metadata": {
        "id": "qEZY2lcJtyj4"
      },
      "execution_count": null,
      "outputs": []
    },
    {
      "cell_type": "code",
      "source": [
        "test_statistic, p_value, dof, expected_freq = chi2_contingency(data)"
      ],
      "metadata": {
        "id": "2Hu-SirjuI5k"
      },
      "execution_count": null,
      "outputs": []
    },
    {
      "cell_type": "code",
      "source": [
        "print(f'Test Statistic - {test_statistic}\\nP-Value - {p_value}\\nDegrees of Freedom - {dof}')"
      ],
      "metadata": {
        "colab": {
          "base_uri": "https://localhost:8080/"
        },
        "id": "XCdN2xRAuZU6",
        "outputId": "da314bba-8183-446d-8569-18d62a5297a9"
      },
      "execution_count": null,
      "outputs": [
        {
          "output_type": "stream",
          "name": "stdout",
          "text": [
            "Test Statistic - 11.466220316047545\n",
            "P-Value - 0.0032369939986537123\n",
            "Degrees of Freedom - 2\n"
          ]
        }
      ]
    },
    {
      "cell_type": "code",
      "source": [
        "alpha = 0.05\n",
        "if p_value <= alpha:\n",
        "    print('Reject null hypothesis')\n",
        "else:\n",
        "    print('Fail to reject null hypothesis')"
      ],
      "metadata": {
        "colab": {
          "base_uri": "https://localhost:8080/"
        },
        "id": "6XwVUIQAubAe",
        "outputId": "a287362d-79e3-4700-902e-661ddcd37894"
      },
      "execution_count": null,
      "outputs": [
        {
          "output_type": "stream",
          "name": "stdout",
          "text": [
            "Reject null hypothesis\n"
          ]
        }
      ]
    },
    {
      "cell_type": "code",
      "source": [],
      "metadata": {
        "id": "4oEjqmAxvloL"
      },
      "execution_count": null,
      "outputs": []
    }
  ]
}