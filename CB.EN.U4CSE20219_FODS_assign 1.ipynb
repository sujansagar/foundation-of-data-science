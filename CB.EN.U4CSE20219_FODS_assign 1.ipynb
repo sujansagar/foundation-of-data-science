{
  "nbformat": 4,
  "nbformat_minor": 0,
  "metadata": {
    "colab": {
      "provenance": [],
      "collapsed_sections": []
    },
    "kernelspec": {
      "name": "python3",
      "display_name": "Python 3"
    },
    "language_info": {
      "name": "python"
    }
  },
  "cells": [
    {
      "cell_type": "code",
      "execution_count": null,
      "metadata": {
        "id": "FqRKzhBHqPnS"
      },
      "outputs": [],
      "source": [
        " my_tuple=('saga','196',896,54.4)"
      ]
    },
    {
      "cell_type": "code",
      "source": [
        "my_dict={\"roll no:cb.en.u4cse20219\",\"Name:Gajula Sujan Sagar\",\"DOB 03 FEB 2003\"}\n",
        "print(my_dict)"
      ],
      "metadata": {
        "colab": {
          "base_uri": "https://localhost:8080/"
        },
        "id": "E503n-tWKqa3",
        "outputId": "6b5da149-41cf-4607-f425-746f34f6d6a8"
      },
      "execution_count": 1,
      "outputs": [
        {
          "output_type": "stream",
          "name": "stdout",
          "text": [
            "{'DOB 03 FEB 2003', 'roll no:cb.en.u4cse20219', 'Name:Gajula Sujan Sagar'}\n"
          ]
        }
      ]
    },
    {
      "cell_type": "code",
      "source": [
        "from google.colab import drive"
      ],
      "metadata": {
        "id": "Yw_tKYwCLO8G"
      },
      "execution_count": 2,
      "outputs": []
    },
    {
      "cell_type": "code",
      "source": [
        "import numpy as np\n",
        "from numpy import random\n",
        "np.random.seed(5)\n",
        "x=random.randint(10,size=(3,2))\n",
        "print(x)"
      ],
      "metadata": {
        "colab": {
          "base_uri": "https://localhost:8080/"
        },
        "id": "bzLA2-MEMfyM",
        "outputId": "328fcd2a-4128-4ac7-f661-f0a040f55217"
      },
      "execution_count": 5,
      "outputs": [
        {
          "output_type": "stream",
          "name": "stdout",
          "text": [
            "[[3 6]\n",
            " [6 0]\n",
            " [9 8]]\n"
          ]
        }
      ]
    },
    {
      "cell_type": "code",
      "source": [
        "y = random.rand()\n",
        "print(y)\n",
        "abs(-1234)"
      ],
      "metadata": {
        "colab": {
          "base_uri": "https://localhost:8080/"
        },
        "id": "0ku14c22M4wJ",
        "outputId": "5628cb03-1604-4bf0-e5fe-7bfb5109b74d"
      },
      "execution_count": 6,
      "outputs": [
        {
          "output_type": "stream",
          "name": "stdout",
          "text": [
            "0.08982103773760686\n"
          ]
        },
        {
          "output_type": "execute_result",
          "data": {
            "text/plain": [
              "1234"
            ]
          },
          "metadata": {},
          "execution_count": 6
        }
      ]
    },
    {
      "cell_type": "code",
      "source": [
        "z = random.randint(20,90)\n",
        "print(z)"
      ],
      "metadata": {
        "colab": {
          "base_uri": "https://localhost:8080/"
        },
        "id": "njC1GxAtNSyB",
        "outputId": "25b289f3-fd6f-4fa2-841b-635988cffdb6"
      },
      "execution_count": 7,
      "outputs": [
        {
          "output_type": "stream",
          "name": "stdout",
          "text": [
            "82\n"
          ]
        }
      ]
    },
    {
      "cell_type": "code",
      "source": [
        "pop = [11,12,13,14,15]\n",
        "np.random.shuffle(pop)\n",
        "print(pop)\n",
        "print(pop[random.randint(0,5)])\n",
        "temp=[pop.pop(random.randint(0,5)),pop.pop(random.randint(0,4)),pop.pop(random.randint(0,3))]\n",
        "print(temp)"
      ],
      "metadata": {
        "colab": {
          "base_uri": "https://localhost:8080/"
        },
        "id": "aODvsijcNWRR",
        "outputId": "476d480c-32e0-4490-db37-389f10b6443e"
      },
      "execution_count": 8,
      "outputs": [
        {
          "output_type": "stream",
          "name": "stdout",
          "text": [
            "[12, 15, 13, 11, 14]\n",
            "14\n",
            "[15, 13, 12]\n"
          ]
        }
      ]
    },
    {
      "cell_type": "code",
      "source": [
        "f = open('test.txt','w')\n",
        "f.write('I LOVE THE GOLDEN HOUR')\n",
        "f.close()\n",
        "f = open('test.txt','r')\n",
        "for i in f:\n",
        "  print(i,end=\" \")\n",
        "f.close()"
      ],
      "metadata": {
        "colab": {
          "base_uri": "https://localhost:8080/"
        },
        "id": "gAsZd9k-NYrc",
        "outputId": "5ce9ed99-09fd-446f-c431-2de0076fe886"
      },
      "execution_count": 3,
      "outputs": [
        {
          "output_type": "stream",
          "name": "stdout",
          "text": [
            "I LOVE THE GOLDEN HOUR "
          ]
        }
      ]
    },
    {
      "cell_type": "code",
      "source": [
        "test = 'I LOVE THE GOLDEN HOUR'\n",
        "array = test.split()\n",
        "print(test)\n",
        "print(test[2:5])\n",
        "print(test[2:])"
      ],
      "metadata": {
        "colab": {
          "base_uri": "https://localhost:8080/"
        },
        "id": "yP1VvuPFNbTr",
        "outputId": "501b6960-9cc3-4c27-b03b-e771505ac0c3"
      },
      "execution_count": 4,
      "outputs": [
        {
          "output_type": "stream",
          "name": "stdout",
          "text": [
            "I LOVE THE GOLDEN HOUR\n",
            "LOV\n",
            "LOVE THE GOLDEN HOUR\n"
          ]
        }
      ]
    },
    {
      "cell_type": "code",
      "source": [
        "arr = np.array([[1,2,3],[4,5,6]])\n",
        "print(arr)"
      ],
      "metadata": {
        "colab": {
          "base_uri": "https://localhost:8080/"
        },
        "id": "FennZts6Nhgy",
        "outputId": "ae5bc9ee-ab0a-4885-9a19-660796f92d73"
      },
      "execution_count": null,
      "outputs": [
        {
          "output_type": "stream",
          "name": "stdout",
          "text": [
            "[[1 2 3]\n",
            " [4 5 6]]\n"
          ]
        }
      ]
    },
    {
      "cell_type": "code",
      "source": [
        "print(arr[1])\n",
        "print(len(arr))"
      ],
      "metadata": {
        "colab": {
          "base_uri": "https://localhost:8080/"
        },
        "id": "M2n1cfVpNkmG",
        "outputId": "0ded523f-f311-4bb1-d223-015890e8aff4"
      },
      "execution_count": null,
      "outputs": [
        {
          "output_type": "stream",
          "name": "stdout",
          "text": [
            "[4 5 6]\n",
            "2\n"
          ]
        }
      ]
    },
    {
      "cell_type": "code",
      "source": [
        "arr = random.randint(20,size=(10))\n",
        "print(arr)\n",
        "x = arr.reshape(2,5)\n",
        "print(x)"
      ],
      "metadata": {
        "colab": {
          "base_uri": "https://localhost:8080/"
        },
        "id": "rfZPJP9MNnGJ",
        "outputId": "5c363667-a78a-47ba-fd51-578c3103eeae"
      },
      "execution_count": null,
      "outputs": [
        {
          "output_type": "stream",
          "name": "stdout",
          "text": [
            "[12 13 11  1 15 18  9 10  9  9]\n",
            "[[12 13 11  1 15]\n",
            " [18  9 10  9  9]]\n"
          ]
        }
      ]
    },
    {
      "cell_type": "code",
      "source": [
        "import numpy as np\n",
        "arr=np.array([[1,2,3],[4,5,6]])\n",
        "print(arr)"
      ],
      "metadata": {
        "colab": {
          "base_uri": "https://localhost:8080/"
        },
        "id": "DLUa6_-PNs6Y",
        "outputId": "409252f3-eee7-4c0c-d42a-ec1e2d884184"
      },
      "execution_count": null,
      "outputs": [
        {
          "output_type": "stream",
          "name": "stdout",
          "text": [
            "[[1 2 3]\n",
            " [4 5 6]]\n"
          ]
        }
      ]
    },
    {
      "cell_type": "code",
      "source": [
        "print(arr[1])\n",
        "print(arr[0][1],arr[1][1])\n",
        "print(len(arr))"
      ],
      "metadata": {
        "colab": {
          "base_uri": "https://localhost:8080/"
        },
        "id": "srDBgNpwBgUs",
        "outputId": "628dadd9-a77c-4757-bdd5-ff31fd21dfd0"
      },
      "execution_count": null,
      "outputs": [
        {
          "output_type": "stream",
          "name": "stdout",
          "text": [
            "[4 5 6]\n",
            "2 5\n",
            "2\n"
          ]
        }
      ]
    },
    {
      "cell_type": "code",
      "source": [
        "ar=np.array([1,2,3,4,5,6,7,8,9,0])\n",
        "print(ar)\n",
        "ar=ar.reshape(2,5)\n",
        "print(ar)"
      ],
      "metadata": {
        "colab": {
          "base_uri": "https://localhost:8080/"
        },
        "id": "ZZ3J8SgpBits",
        "outputId": "38719af8-dc38-497a-dacb-d00dd7203e5a"
      },
      "execution_count": null,
      "outputs": [
        {
          "output_type": "stream",
          "name": "stdout",
          "text": [
            "[1 2 3 4 5 6 7 8 9 0]\n",
            "[[1 2 3 4 5]\n",
            " [6 7 8 9 0]]\n"
          ]
        }
      ]
    },
    {
      "cell_type": "code",
      "source": [
        "a15=[1,2,3]\n",
        "a15=np.full((3),9)\n",
        "print(a15)"
      ],
      "metadata": {
        "colab": {
          "base_uri": "https://localhost:8080/"
        },
        "id": "tvEYOUw_Bllq",
        "outputId": "df909e8f-7f4a-4506-963d-3e8008b02eba"
      },
      "execution_count": null,
      "outputs": [
        {
          "output_type": "stream",
          "name": "stdout",
          "text": [
            "[9 9 9]\n"
          ]
        }
      ]
    },
    {
      "cell_type": "code",
      "source": [
        "a16=[2,4,5]\n",
        "print(sum(a16))"
      ],
      "metadata": {
        "colab": {
          "base_uri": "https://localhost:8080/"
        },
        "id": "kO26DNV9BovM",
        "outputId": "5f6cbebf-5891-402d-a22d-f2d2d64ed79f"
      },
      "execution_count": null,
      "outputs": [
        {
          "output_type": "stream",
          "name": "stdout",
          "text": [
            "11\n"
          ]
        }
      ]
    },
    {
      "cell_type": "code",
      "source": [
        "a17=[77,74,75]\n",
        "prod=1\n",
        "for i in a17:\n",
        "  prod*=i\n",
        "print(prod)"
      ],
      "metadata": {
        "colab": {
          "base_uri": "https://localhost:8080/"
        },
        "id": "520L3t_0Bq5w",
        "outputId": "bc9e1c18-3187-4baa-f4e8-1c7c5a07fe27"
      },
      "execution_count": null,
      "outputs": [
        {
          "output_type": "stream",
          "name": "stdout",
          "text": [
            "427350\n"
          ]
        }
      ]
    },
    {
      "cell_type": "code",
      "source": [
        "from scipy import stats\n",
        "a18=np.array([2,1,9,1,2,22,1,1,4,55,6,2,56])\n",
        "print(\"Mean=\",np.mean(a18))\n",
        "print(\"Median=\",np.median(a18))\n",
        "print(\"Mode=\",stats.mode(a18))\n",
        "print(\"Max=\",max(a18))\n",
        "print(\"Min=\",min(a18))"
      ],
      "metadata": {
        "colab": {
          "base_uri": "https://localhost:8080/"
        },
        "id": "D-WjoFwBBtOP",
        "outputId": "5743c751-193c-4951-cc55-dd4e4df12957"
      },
      "execution_count": null,
      "outputs": [
        {
          "output_type": "stream",
          "name": "stdout",
          "text": [
            "Mean= 12.461538461538462\n",
            "Median= 2.0\n",
            "Mode= ModeResult(mode=array([1]), count=array([4]))\n",
            "Max= 56\n",
            "Min= 1\n"
          ]
        }
      ]
    },
    {
      "cell_type": "code",
      "source": [
        "a19=[1, 1, 4, 5, 5, 5, 7]\n",
        "a19=list(set(a19))\n",
        "a19.sort()\n",
        "print(a19)"
      ],
      "metadata": {
        "colab": {
          "base_uri": "https://localhost:8080/"
        },
        "id": "sNlAT1iCBxUm",
        "outputId": "9a0832ee-3845-43f5-87da-33c68a531b7a"
      },
      "execution_count": null,
      "outputs": [
        {
          "output_type": "stream",
          "name": "stdout",
          "text": [
            "[1, 4, 5, 7]\n"
          ]
        }
      ]
    },
    {
      "cell_type": "code",
      "source": [
        "a20=[1,2,3]\n",
        "b20=[0,1,1]\n",
        "print(np.dot(a20,b20))"
      ],
      "metadata": {
        "colab": {
          "base_uri": "https://localhost:8080/"
        },
        "id": "GU6XHr2bBzee",
        "outputId": "4229a4b1-acf6-4437-ab8d-e0b3ee300b82"
      },
      "execution_count": null,
      "outputs": [
        {
          "output_type": "stream",
          "name": "stdout",
          "text": [
            "5\n"
          ]
        }
      ]
    },
    {
      "cell_type": "code",
      "source": [
        "a21=[[2,-12],[1,-5]]\n",
        "x,y=np.linalg.eig(a21)\n",
        "print(x,y)"
      ],
      "metadata": {
        "colab": {
          "base_uri": "https://localhost:8080/"
        },
        "id": "fEnRk-MuB1sP",
        "outputId": "c310ec3f-1cc1-41e7-e152-83de5a516954"
      },
      "execution_count": null,
      "outputs": [
        {
          "output_type": "stream",
          "name": "stdout",
          "text": [
            "[-1. -2.] [[0.9701425  0.9486833 ]\n",
            " [0.24253563 0.31622777]]\n"
          ]
        }
      ]
    },
    {
      "cell_type": "code",
      "source": [
        "a22=[[11, 22, 11, 31], [25, 33, 31, 28]]\n",
        "print(np.corrcoef(a22))"
      ],
      "metadata": {
        "colab": {
          "base_uri": "https://localhost:8080/"
        },
        "id": "00DO9hYaB4J4",
        "outputId": "5abfe82e-839c-4dda-bf4f-32b4fb0fbe67"
      },
      "execution_count": null,
      "outputs": [
        {
          "output_type": "stream",
          "name": "stdout",
          "text": [
            "[[1.         0.15997968]\n",
            " [0.15997968 1.        ]]\n"
          ]
        }
      ]
    },
    {
      "cell_type": "code",
      "source": [],
      "metadata": {
        "id": "XokXDxppB6IC"
      },
      "execution_count": null,
      "outputs": []
    }
  ]
}